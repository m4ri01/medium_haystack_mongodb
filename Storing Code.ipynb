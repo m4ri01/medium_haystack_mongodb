{
 "cells": [
  {
   "cell_type": "code",
   "execution_count": null,
   "id": "b7e1a09a-6449-4a7d-9c91-cf1b6bfdcca0",
   "metadata": {},
   "outputs": [],
   "source": [
    "from haystack import Pipeline\n",
    "from haystack.components.converters import TextFileToDocument\n",
    "from haystack.components.preprocessors import DocumentCleaner\n",
    "from haystack.components.preprocessors import DocumentSplitter\n",
    "from haystack.components.embedders import SentenceTransformersDocumentEmbedder\n",
    "from haystack_integrations.document_stores.mongodb_atlas import MongoDBAtlasDocumentStore\n",
    "from haystack.document_stores.types import DuplicatePolicy\n",
    "from haystack.components.writers import DocumentWriter"
   ]
  },
  {
   "cell_type": "code",
   "execution_count": null,
   "id": "2364ceea-9034-43c4-8272-fc376f5f03b9",
   "metadata": {},
   "outputs": [],
   "source": [
    "%env MONGO_CONNECTION_STRING=mongodb+srv://test_process:<password>@cluster0.htmak.mongodb.net/?retryWrites=true&w=majority&appName=Cluster0\n",
    "document_store = MongoDBAtlasDocumentStore(\n",
    "    database_name=\"test_db\",\n",
    "    collection_name=\"test_collections\",\n",
    "    vector_search_index=\"vector_index\",\n",
    ")"
   ]
  },
  {
   "cell_type": "code",
   "execution_count": null,
   "id": "9e696bef-49c5-4272-8ee8-1524a19f48e2",
   "metadata": {},
   "outputs": [],
   "source": [
    "pipeline_storing_mongodb = Pipeline()\n",
    "pipeline_storing_mongodb.add_component(\"converter\",TextFileToDocument())\n",
    "pipeline_storing_mongodb.add_component(\"cleaner\",DocumentCleaner())\n",
    "pipeline_storing_mongodb.add_component(\"splitter\",DocumentSplitter(split_by=\"word\",split_length=256,split_overlap=100))\n",
    "pipeline_storing_mongodb.add_component(\"embedder\",SentenceTransformersDocumentEmbedder())\n",
    "pipeline_storing_mongodb.add_component(\"writer\",DocumentWriter(document_store=document_store,policy=DuplicatePolicy.SKIP))"
   ]
  },
  {
   "cell_type": "code",
   "execution_count": null,
   "id": "4739bb32-b29d-4783-948d-f5c6634ab678",
   "metadata": {},
   "outputs": [],
   "source": [
    "pipeline_storing_mongodb.connect(\"converter\",\"cleaner\")\n",
    "pipeline_storing_mongodb.connect(\"cleaner\",\"splitter\")\n",
    "pipeline_storing_mongodb.connect(\"splitter\",\"embedder\")\n",
    "pipeline_storing_mongodb.connect(\"embedder\",\"writer\")"
   ]
  },
  {
   "cell_type": "code",
   "execution_count": null,
   "id": "164e79a0-c518-4c57-aeaf-f1134c2677e5",
   "metadata": {},
   "outputs": [],
   "source": [
    "pipeline_storing_mongodb.run({\n",
    "    \"converter\":{\n",
    "        \"sources\":[\"starwars.txt\"]\n",
    "    }\n",
    "})"
   ]
  },
  {
   "cell_type": "code",
   "execution_count": null,
   "id": "0c574d4d-12f9-40ed-8194-0691d9adf737",
   "metadata": {},
   "outputs": [],
   "source": []
  }
 ],
 "metadata": {
  "kernelspec": {
   "display_name": "Python 3 (ipykernel)",
   "language": "python",
   "name": "python3"
  },
  "language_info": {
   "codemirror_mode": {
    "name": "ipython",
    "version": 3
   },
   "file_extension": ".py",
   "mimetype": "text/x-python",
   "name": "python",
   "nbconvert_exporter": "python",
   "pygments_lexer": "ipython3",
   "version": "3.11.9"
  }
 },
 "nbformat": 4,
 "nbformat_minor": 5
}
